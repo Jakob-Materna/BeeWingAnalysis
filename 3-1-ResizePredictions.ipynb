{
 "cells": [
  {
   "cell_type": "markdown",
   "id": "0c6bef03-6f8b-4887-a79b-9a50ee84f8c9",
   "metadata": {},
   "source": [
    "### 3-1-ResizePredictions.ipynb \n",
    "\n",
    "Rezises segmentations using the format of the original image."
   ]
  },
  {
   "cell_type": "code",
   "execution_count": 1,
   "id": "2a6340ae-1610-4d31-8987-71cd177371ee",
   "metadata": {},
   "outputs": [],
   "source": [
    "import os\n",
    "import cv2\n",
    "import numpy as np\n",
    "import rasterio.features\n",
    "from shapely import Polygon\n",
    "from pathlib import Path\n",
    "from tqdm import tqdm"
   ]
  },
  {
   "cell_type": "code",
   "execution_count": 3,
   "id": "ac31f997-b103-49e6-849c-75c7c5b01f5d",
   "metadata": {},
   "outputs": [],
   "source": [
    "# Define your base working directory\n",
    "base_dir = Path(\"/mnt/c/Projects/Master/Data/Processed/LiveBees/8-SemanticSegmentation/\")\n",
    "    \n",
    "# Build directory paths from the base directory\n",
    "pred_fps = list((base_dir / \"predictions\").glob(\"*\"))\n",
    "wing_fp = base_dir / \"to_predict\" / \"images\"\n",
    "out_fp = base_dir / \"predictions_resized\""
   ]
  },
  {
   "cell_type": "code",
   "execution_count": 5,
   "id": "1cf481fd-e52b-4fb6-96c3-7be4f5f3bb55",
   "metadata": {},
   "outputs": [
    {
     "name": "stderr",
     "output_type": "stream",
     "text": [
      "Processing files: 100%|█████████████████████████████████████████████████████████████████████████████████████| 5574/5574 [00:39<00:00, 141.79it/s]\n"
     ]
    }
   ],
   "source": [
    "DEBUG = False\n",
    "\n",
    "# Loop through every prediction\n",
    "for pred_fp in tqdm(pred_fps, desc=\"Processing files\", ncols=145):\n",
    "    # Determine file paths\n",
    "    pred_fp = Path(pred_fp)\n",
    "    pred_fn = pred_fp.name\n",
    "    seg_fp = Path(wing_fp) / pred_fn\n",
    "    os.makedirs(out_fp, exist_ok=True)\n",
    "    new_fp = Path(out_fp) / pred_fn\n",
    "    \n",
    "    # Skip if output file exists\n",
    "    if os.path.exists(new_fp):\n",
    "        continue   \n",
    "            \n",
    "    # Through an error if no matching image exists\n",
    "    if not os.path.exists(seg_fp):\n",
    "        print(\"Warning: Missing Image!\")\n",
    "        continue\n",
    "\n",
    "    # Open the matching image pair\n",
    "    seg = cv2.imread(seg_fp)\n",
    "    pred = cv2.imread(pred_fp, cv2.IMREAD_GRAYSCALE)\n",
    "\n",
    "    # Calculate the image scale\n",
    "    x_scale = seg.shape[1] / pred.shape[1]\n",
    "    y_scale = seg.shape[0] / pred.shape[0]\n",
    "\n",
    "    # Resize the prediction using the scale\n",
    "    out = np.zeros(seg.shape[:2]).astype(\"uint8\")\n",
    "    for class_id in range(1, 7):\n",
    "        if (pred == class_id).sum() > 0:\n",
    "    \n",
    "            contours, hierarchy = cv2.findContours((pred == class_id).astype(\"uint8\"), 1, 2)\n",
    "            area_sorted_indices = np.argsort([cv2.contourArea(x) for x in contours])\n",
    "            biggest_contour_index = area_sorted_indices[-1]\n",
    "            biggest_contour = contours[biggest_contour_index].squeeze()\n",
    "    \n",
    "            # biggest_contour = get_biggest_contour()\n",
    "            if len(biggest_contour) >= 4:\n",
    "                poly = Polygon(biggest_contour*np.array([x_scale, y_scale]))\n",
    "                class_mask_resized = rasterio.features.rasterize([poly], out_shape=(int(256 * y_scale), int(256 * x_scale)))\n",
    "                out[np.where(class_mask_resized > 0.5)] = class_id\n",
    "    if DEBUG:\n",
    "        plt.imshow(out.astype(\"uint8\"))\n",
    "\n",
    "    # Save the rescaled prediction\n",
    "    cv2.imwrite(new_fp, out)"
   ]
  },
  {
   "cell_type": "code",
   "execution_count": null,
   "id": "b6707178-ffb8-4dcb-8aff-2534b84a5a54",
   "metadata": {},
   "outputs": [],
   "source": []
  }
 ],
 "metadata": {
  "kernelspec": {
   "display_name": "Python 3 (ipykernel)",
   "language": "python",
   "name": "python3"
  },
  "language_info": {
   "codemirror_mode": {
    "name": "ipython",
    "version": 3
   },
   "file_extension": ".py",
   "mimetype": "text/x-python",
   "name": "python",
   "nbconvert_exporter": "python",
   "pygments_lexer": "ipython3",
   "version": "3.11.6"
  }
 },
 "nbformat": 4,
 "nbformat_minor": 5
}
