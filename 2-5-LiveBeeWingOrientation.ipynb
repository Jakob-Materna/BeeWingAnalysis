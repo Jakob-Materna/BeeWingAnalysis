{
 "cells": [
  {
   "cell_type": "markdown",
   "id": "e931f511-ed5b-45a5-a717-18290894874a",
   "metadata": {},
   "source": [
    "### 2-5-LiveBeeWingOrientation.ipynb\n",
    "\n",
    "Correctly orientates the images by detecting the black color at the top and base of the wing."
   ]
  },
  {
   "cell_type": "code",
   "execution_count": 1,
   "id": "f3177cbd-8c7c-4c59-967e-e92c47f2e2b4",
   "metadata": {},
   "outputs": [],
   "source": [
    "from pathlib import Path\n",
    "from tqdm import tqdm\n",
    "import matplotlib.pyplot as plt\n",
    "from PIL import Image\n",
    "\n",
    "import numpy as np\n",
    "import time\n",
    "import cv2\n",
    "import os"
   ]
  },
  {
   "cell_type": "code",
   "execution_count": 5,
   "id": "bc86f380-a86d-4489-abcf-72a31486a33c",
   "metadata": {},
   "outputs": [],
   "source": [
    "# Define directories\n",
    "data_dir = Path(\"/mnt/g/Projects/Master/Data/\")\n",
    "\n",
    "input_dir = data_dir / \"Processed\" / \"LiveBees\" / \"5-LiveWingCropsRemovedBackground\" / \"Wings\"\n",
    "output_dir = data_dir / \"Processed\" / \"LiveBees\" / \"6-LiveWingsFlipped\" "
   ]
  },
  {
   "cell_type": "code",
   "execution_count": 6,
   "id": "fa653e1b-2627-407d-a2f7-e84bae83b238",
   "metadata": {},
   "outputs": [],
   "source": [
    "def find_black_area(image, window_size):\n",
    "    h, w = image.shape\n",
    "    max_density = -1\n",
    "    best_coords = (0, 0)\n",
    "\n",
    "    # Slide the window over the image\n",
    "    for y in range(0, h - window_size[1] + 1, 1):\n",
    "        for x in range(0, w - window_size[0] + 1, 1):\n",
    "            # Extract the window from the image\n",
    "            window = image[y:y + window_size[1], x:x + window_size[0]]\n",
    "\n",
    "            # Count the number of black pixels (assuming black pixels are 0)\n",
    "            black_pixel_count = np.sum(window == 0)\n",
    "\n",
    "            # Track the window with the maximum number of black pixels\n",
    "            if black_pixel_count > max_density:\n",
    "                max_density = black_pixel_count\n",
    "                best_coords = (x, y)\n",
    "\n",
    "    return best_coords"
   ]
  },
  {
   "cell_type": "code",
   "execution_count": 7,
   "id": "590890cb-7186-4deb-8936-92ad69c0ce38",
   "metadata": {},
   "outputs": [
    {
     "name": "stdout",
     "output_type": "stream",
     "text": [
      "WARNING: Output directory already exists.\n"
     ]
    },
    {
     "name": "stderr",
     "output_type": "stream",
     "text": [
      "Processing files: 100%|████████████████████████████████████████████████████████████████████████████████████| 1194/1194 [1:36:09<00:00,  4.83s/it]\n"
     ]
    }
   ],
   "source": [
    "# Images where manual correction is necessary\n",
    "to_flip = [\"Round01-Hive03-2024_06_20-h03b44_deformedWing\", \n",
    "           \"Round02-hive12-2024_07_05-h12b31\", \n",
    "           \"Round02-hive14-2024_07_04-h14b35\", \n",
    "           \"Round03-hive25-2024_07_03-h25b24\"\n",
    "          ]\n",
    "\n",
    "try:\n",
    "    # Create the new output directories\n",
    "    if os.path.exists(output_dir):\n",
    "        print(\"WARNING: Output directory already exists.\") \n",
    "    os.makedirs(output_dir, exist_ok=True)\n",
    "    \n",
    "    # Find jpg files\n",
    "    jpg_files = list(input_dir.glob(\"*.JPG\"))\n",
    "\n",
    "    # Process every file\n",
    "    for jpg_file in tqdm(jpg_files, desc=\"Processing files\", ncols=145):\n",
    "        increase_tresh = False\n",
    "        filename = jpg_file.name\n",
    "        output_file = output_dir / filename\n",
    "    \n",
    "        # Skip if the file exists\n",
    "        if os.path.exists(output_file):\n",
    "            continue\n",
    "            \n",
    "        # Load image\n",
    "        image = cv2.imread(jpg_file)\n",
    "        image = cv2.cvtColor(image, cv2.COLOR_BGR2RGB)\n",
    "    \n",
    "        # Grayscale image\n",
    "        gray = cv2.cvtColor(image, cv2.COLOR_RGB2GRAY)\n",
    "    \n",
    "        # Apply Gaussian Blur\n",
    "        blurred_image = cv2.GaussianBlur(gray, (5, 5), 0)\n",
    "    \n",
    "        # Find a threshold with less than 3% black area\n",
    "        threshold = 60\n",
    "        while threshold >= 5:\n",
    "            # Apply thresholding to get a binary image \n",
    "            _, thresh = cv2.threshold(blurred_image, threshold, 255, cv2.THRESH_BINARY)\n",
    "            \n",
    "            # Calculate the percentage of black pixels\n",
    "            total_pixels = thresh.size\n",
    "            black_pixels = np.count_nonzero(thresh == 0)\n",
    "            black_percentage = (black_pixels / total_pixels) * 100\n",
    "    \n",
    "            # Use this threshold if less than 3% of pixels are black\n",
    "            if black_percentage < 3:\n",
    "                break\n",
    "                \n",
    "            # Decrease threshold until less than 3% of pixels are black\n",
    "            threshold -= 5\n",
    "        \n",
    "        window_size = (50, 50)\n",
    "        cords = find_black_area(thresh, window_size)\n",
    "    \n",
    "        if cords[1] > image.shape[0]/2:\n",
    "            image = cv2.flip(image, 0)\n",
    "        if jpg_file.stem in to_flip:\n",
    "            image = cv2.flip(image, 0)\n",
    "        image = Image.fromarray(image)\n",
    "        image.save(output_file)\n",
    "\n",
    "# Handle exceptions\n",
    "except FileNotFoundError as e:\n",
    "    print(e)\n",
    "\n",
    "except KeyboardInterrupt:\n",
    "    pass"
   ]
  },
  {
   "cell_type": "code",
   "execution_count": null,
   "id": "82c29056-2603-4cd3-b89b-04e1aaa717a3",
   "metadata": {},
   "outputs": [],
   "source": []
  }
 ],
 "metadata": {
  "kernelspec": {
   "display_name": "Python 3 (ipykernel)",
   "language": "python",
   "name": "python3"
  },
  "language_info": {
   "codemirror_mode": {
    "name": "ipython",
    "version": 3
   },
   "file_extension": ".py",
   "mimetype": "text/x-python",
   "name": "python",
   "nbconvert_exporter": "python",
   "pygments_lexer": "ipython3",
   "version": "3.11.6"
  }
 },
 "nbformat": 4,
 "nbformat_minor": 5
}
