{
 "cells": [
  {
   "cell_type": "markdown",
   "id": "32e4c62b-6dd2-4ffe-8bbd-c59e2155496e",
   "metadata": {},
   "source": [
    "### 4-OnlyFWL.ipynb\n",
    "\n",
    "Removes everything but the forewing lobe using wing segmentations."
   ]
  },
  {
   "cell_type": "code",
   "execution_count": 1,
   "id": "789bb39e-b773-44f9-b5dd-bc1271890756",
   "metadata": {},
   "outputs": [],
   "source": [
    "import cv2\n",
    "import os\n",
    "import shutil\n",
    "import numpy as np\n",
    "from tqdm import tqdm\n",
    "from pathlib import Path"
   ]
  },
  {
   "cell_type": "code",
   "execution_count": 6,
   "id": "c422b123-a162-4254-94e1-59901b6b1ffa",
   "metadata": {},
   "outputs": [],
   "source": [
    "# Define directories\n",
    "data_dir = Path(\"/mnt/c/Projects/Master/Data/\")\n",
    "img_dir = data_dir / \"Processed\" / \"AgePrediction\" / \"03-OnlyFWL\" / \"1-LiveBeeWings\"\n",
    "mask_dir = data_dir / \"Processed\" / \"AgePrediction\" / \"03-OnlyFWL\" / \"2-Masks\"\n",
    "output_dir = data_dir / \"Processed\" / \"AgePrediction\" / \"03-OnlyFWL\" / \"3-OnlyFWL\"\n",
    "\n",
    "DEBUG = False"
   ]
  },
  {
   "cell_type": "code",
   "execution_count": 5,
   "id": "f7f43e40-d5cb-423f-8cfd-2d8d75336733",
   "metadata": {},
   "outputs": [
    {
     "name": "stderr",
     "output_type": "stream",
     "text": [
      "Processing files: 100%|████████████████████████████████████████████████████████████████████████████████████████| 999/999 [01:18<00:00, 12.68it/s]\n"
     ]
    }
   ],
   "source": [
    "# Make sure output dir exists\n",
    "os.makedirs(output_dir, exist_ok=True)\n",
    "\n",
    "# Label number and image margin  \n",
    "FRONT_CELL_LABEL = 1\n",
    "MARGIN = 10  \n",
    "\n",
    "for filename in tqdm(os.listdir(img_dir), desc=\"Processing files\", ncols=145):\n",
    "    if filename.endswith(\".jpg\") or filename.endswith(\".png\"):\n",
    "        img_path = os.path.join(img_dir, filename)\n",
    "        mask_path = os.path.join(mask_dir, filename)\n",
    "\n",
    "        img = cv2.imread(img_path)\n",
    "        mask = cv2.imread(mask_path, cv2.IMREAD_GRAYSCALE)\n",
    "\n",
    "        # Create binary mask for the front cell\n",
    "        front_mask = (mask == FRONT_CELL_LABEL).astype(np.uint8)\n",
    "\n",
    "        # Optionally dilate to ensure full coverage\n",
    "        kernel = cv2.getStructuringElement(cv2.MORPH_ELLIPSE, (10, 10))\n",
    "        front_mask = cv2.dilate(front_mask, kernel, iterations=1)\n",
    "\n",
    "        # Skip if mask is empty\n",
    "        if np.count_nonzero(front_mask) == 0:\n",
    "            print(f\"No front cell in {filename}\")\n",
    "            continue\n",
    "\n",
    "        # Apply mask to image\n",
    "        front_mask_3c = cv2.merge([front_mask] * 3)\n",
    "        result = img.copy()\n",
    "        result[front_mask_3c == 0] = 255\n",
    "\n",
    "        # Find bounding box of the front cell\n",
    "        ys, xs = np.where(front_mask > 0)\n",
    "        y_min = max(np.min(ys) - MARGIN, 0)\n",
    "        y_max = min(np.max(ys) + MARGIN, img.shape[0])\n",
    "        x_min = max(np.min(xs) - MARGIN, 0)\n",
    "        x_max = min(np.max(xs) + MARGIN, img.shape[1])\n",
    "\n",
    "        # Crop the result\n",
    "        cropped_result = result[y_min:y_max, x_min:x_max]\n",
    "\n",
    "        # Save cropped image\n",
    "        output_path = os.path.join(output_dir, filename)\n",
    "        cv2.imwrite(output_path, cropped_result)"
   ]
  },
  {
   "cell_type": "code",
   "execution_count": null,
   "id": "0b6ee35d-adc6-4382-aee4-7bc845a660e7",
   "metadata": {},
   "outputs": [],
   "source": []
  }
 ],
 "metadata": {
  "kernelspec": {
   "display_name": "Python 3 (ipykernel)",
   "language": "python",
   "name": "python3"
  },
  "language_info": {
   "codemirror_mode": {
    "name": "ipython",
    "version": 3
   },
   "file_extension": ".py",
   "mimetype": "text/x-python",
   "name": "python",
   "nbconvert_exporter": "python",
   "pygments_lexer": "ipython3",
   "version": "3.11.6"
  }
 },
 "nbformat": 4,
 "nbformat_minor": 5
}
