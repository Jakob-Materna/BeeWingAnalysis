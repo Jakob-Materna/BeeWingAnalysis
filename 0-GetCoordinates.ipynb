{
 "cells": [
  {
   "cell_type": "markdown",
   "id": "b4fa656c-53c6-4bad-857b-d13edc80764c",
   "metadata": {},
   "source": [
    "### 0-GetCoordinates.ipynb\n",
    "\n",
    "Allows manual get coordinates with a mouse click. "
   ]
  },
  {
   "cell_type": "code",
   "execution_count": 1,
   "id": "8aef1180-f1fa-4156-8847-e87919ed8a36",
   "metadata": {},
   "outputs": [],
   "source": [
    "import cv2\n",
    "\n",
    "# Points are stored as a global variable\n",
    "points = []\n",
    "\n",
    "def handle_clicks(event, x, y, flags, param):\n",
    "    \"\"\"\n",
    "    Stores the coordinates of mouse clicks.\n",
    "    \"\"\"\n",
    "    global points, image\n",
    "\n",
    "    if event == cv2.EVENT_LBUTTONDOWN:\n",
    "        points.append((x, y))\n",
    "        cv2.circle(image, (x, y), 15, (0, 0, 255), -1) \n",
    "        \n",
    "        print(f\"({x}, {y})\")\n",
    "        \n",
    "        # Show updated image\n",
    "        cv2.imshow(\"Image\", image)\n",
    "\n",
    "def get_coordinates(image_path):\n",
    "    \"\"\"\n",
    "    Loads an image and captures mouse click coordinates.\n",
    "    \"\"\"\n",
    "    global image\n",
    "\n",
    "    image = cv2.imread(image_path)\n",
    "    if image is None:\n",
    "        print(\"Error: Image not found.\")\n",
    "        return\n",
    "\n",
    "    # Load the image window\n",
    "    cv2.namedWindow(\"Image\", cv2.WINDOW_NORMAL)\n",
    "    cv2.resizeWindow(\"Image\", 1200, 1000)\n",
    "    cv2.imshow(\"Image\", image)\n",
    "    cv2.setMouseCallback(\"Image\", handle_clicks)\n",
    "\n",
    "    # Wait for input\n",
    "    print(\"Click on points to get coordinates. Press 'Esc' to exit.\")\n",
    "    cv2.waitKey(0)\n",
    "    cv2.destroyAllWindows()\n",
    "    \n",
    "    print(f\"Coordinates: {points}\") "
   ]
  },
  {
   "cell_type": "code",
   "execution_count": 2,
   "id": "0a8838ee-fe13-445d-a2d0-89647355077a",
   "metadata": {},
   "outputs": [
    {
     "name": "stderr",
     "output_type": "stream",
     "text": [
      "qt.qpa.plugin: Could not find the Qt platform plugin \"wayland\" in \"\"\n"
     ]
    },
    {
     "name": "stdout",
     "output_type": "stream",
     "text": [
      "Click on points to get coordinates. Press 'Esc' to exit.\n",
      "(1610, 1372)\n",
      "(1873, 443)\n",
      "(2288, 535)\n",
      "(2016, 1459)\n",
      "Coordinates: [(1610, 1372), (1873, 443), (2288, 535), (2016, 1459)]\n"
     ]
    }
   ],
   "source": [
    "image_path = \"/mnt/g/Projects/Master/Data/Processed/LiveBees/2-LiveWingLabelCropsManuallyImproved/Labels/Round02-hive14-2024_07_04-h14b38.JPG\"\n",
    "get_coordinates(image_path)"
   ]
  },
  {
   "cell_type": "code",
   "execution_count": null,
   "id": "01b1ab52-0b0b-4eab-abcb-84f208c9b437",
   "metadata": {},
   "outputs": [],
   "source": []
  }
 ],
 "metadata": {
  "kernelspec": {
   "display_name": "Python 3 (ipykernel)",
   "language": "python",
   "name": "python3"
  },
  "language_info": {
   "codemirror_mode": {
    "name": "ipython",
    "version": 3
   },
   "file_extension": ".py",
   "mimetype": "text/x-python",
   "name": "python",
   "nbconvert_exporter": "python",
   "pygments_lexer": "ipython3",
   "version": "3.12.3"
  }
 },
 "nbformat": 4,
 "nbformat_minor": 5
}
