{
 "cells": [
  {
   "cell_type": "markdown",
   "id": "ac02abcb-1f25-4610-bedd-0874a6606512",
   "metadata": {},
   "source": [
    "### 0-MeasureDistance.ipynb\n",
    "\n"
   ]
  },
  {
   "cell_type": "code",
   "execution_count": 1,
   "id": "337fe787-4440-4bb3-b315-2bede31d3202",
   "metadata": {},
   "outputs": [],
   "source": [
    "import cv2\n",
    "import numpy as np"
   ]
  },
  {
   "cell_type": "code",
   "execution_count": 10,
   "id": "a45e8f28-55fa-45de-9918-a82ebea5098c",
   "metadata": {},
   "outputs": [],
   "source": [
    "# Points are stored as a global variable\n",
    "points = []\n",
    "\n",
    "def handle_clicks(event, x, y, flags, param):\n",
    "    \"\"\"\n",
    "    Measures distance between clicks.\n",
    "    \"\"\"\n",
    "    global points, image\n",
    "\n",
    "    if event == cv2.EVENT_LBUTTONDOWN:\n",
    "        points.append((x, y))\n",
    "        cv2.circle(image, (x, y), 15, (0, 0, 255), -1) \n",
    "\n",
    "        # When two points are clicked the distance is calculated\n",
    "        if len(points) == 2:\n",
    "            distance = np.linalg.norm(np.array(points[0]) - np.array(points[1]))\n",
    "            print(f\"Distance: {distance:.2f} pixels\")\n",
    "\n",
    "            # Draw a line between the points\n",
    "            cv2.line(image, points[0], points[1], (255, 0, 0), 10)\n",
    "\n",
    "            # Reset points for the next measurement\n",
    "            points.clear()\n",
    "\n",
    "        cv2.imshow(\"Image\", image)\n",
    "\n",
    "\n",
    "def measure_distance(image_path):\n",
    "    \"\"\"\n",
    "    Loads an image and measures distance.\n",
    "    \"\"\"\n",
    "    global image\n",
    "\n",
    "    image = cv2.imread(image_path)\n",
    "    if image is None:\n",
    "        print(\"Error: Image not found.\")\n",
    "        return\n",
    "\n",
    "    # Load the image window\n",
    "    cv2.namedWindow(\"Image\", cv2.WINDOW_NORMAL)\n",
    "    cv2.resizeWindow(\"Image\", 1000, 1200)\n",
    "    cv2.imshow(\"Image\", image)\n",
    "    cv2.setMouseCallback(\"Image\", handle_clicks)\n",
    "\n",
    "    # Wait for input\n",
    "    print(\"Click on two points to measure the distance. Press 'Esc' to exit.\")\n",
    "    cv2.waitKey(0)\n",
    "    cv2.destroyAllWindows()"
   ]
  },
  {
   "cell_type": "code",
   "execution_count": null,
   "id": "e0400e98-8475-4716-8993-dde0f4509605",
   "metadata": {},
   "outputs": [
    {
     "name": "stdout",
     "output_type": "stream",
     "text": [
      "Click on two points to measure the distance. Press 'Esc' to exit.\n",
      "Distance: 625.72 pixels\n",
      "Distance: 576.28 pixels\n"
     ]
    }
   ],
   "source": [
    "image_path = \"/mnt/g/Projects/Master/Data/Testdata/CropTest/h01bee36.JPG\"\n",
    "measure_distance(image_path)"
   ]
  },
  {
   "cell_type": "code",
   "execution_count": null,
   "id": "b9832155-29b7-4a09-8730-5c4810421ab5",
   "metadata": {},
   "outputs": [],
   "source": []
  }
 ],
 "metadata": {
  "kernelspec": {
   "display_name": "Python 3 (ipykernel)",
   "language": "python",
   "name": "python3"
  },
  "language_info": {
   "codemirror_mode": {
    "name": "ipython",
    "version": 3
   },
   "file_extension": ".py",
   "mimetype": "text/x-python",
   "name": "python",
   "nbconvert_exporter": "python",
   "pygments_lexer": "ipython3",
   "version": "3.12.3"
  }
 },
 "nbformat": 4,
 "nbformat_minor": 5
}
