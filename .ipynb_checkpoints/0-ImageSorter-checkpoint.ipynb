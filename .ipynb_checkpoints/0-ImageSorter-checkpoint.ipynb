{
 "cells": [
  {
   "cell_type": "markdown",
   "id": "9fe323d8-8372-4168-86ed-778d26625e57",
   "metadata": {},
   "source": [
    "### 0-ImageSorter.ipynb\n",
    "\n",
    "This is a tool for manually sorting images into two categories using keyboard input. It displays each image and allows the user to classify it by pressing \"g\" or \"b\"."
   ]
  },
  {
   "cell_type": "code",
   "execution_count": 2,
   "id": "cd3ae55e-6bbc-4b87-ad8e-ef3849b4a3a3",
   "metadata": {},
   "outputs": [],
   "source": [
    "import os\n",
    "import cv2\n",
    "import shutil\n",
    "from tqdm import tqdm\n",
    "from glob import glob\n",
    "from pathlib import Path"
   ]
  },
  {
   "cell_type": "code",
   "execution_count": 3,
   "id": "033a8e68-4aa8-4140-8605-7716e1117b36",
   "metadata": {},
   "outputs": [],
   "source": [
    "# Define directories\n",
    "input_folder = Path(\"/mnt/g/Projects/Master/Data/Processed/WingScans/Test/3-ScanWingsAligned-Test/Wings/\")\n",
    "\n",
    "good_folder = input_folder / \"good\"\n",
    "bad_folder = input_folder / \"bad\""
   ]
  },
  {
   "cell_type": "code",
   "execution_count": null,
   "id": "f525a1ab-0201-4992-9bb3-39f442cd201b",
   "metadata": {},
   "outputs": [
    {
     "name": "stdout",
     "output_type": "stream",
     "text": [
      "Press \"g\" to mark as good, \"b\" to mark as bad, \"Esc\" to exit.\n"
     ]
    },
    {
     "name": "stderr",
     "output_type": "stream",
     "text": [
      "  0%|                                                                                          | 0/4380 [00:00<?, ?it/s]"
     ]
    },
    {
     "name": "stdout",
     "output_type": "stream",
     "text": [
      "Invalid key pressed. Use \"g\", \"b\", or \"Esc\".\n"
     ]
    },
    {
     "name": "stderr",
     "output_type": "stream",
     "text": [
      "qt.qpa.plugin: Could not find the Qt platform plugin \"wayland\" in \"\"\n"
     ]
    },
    {
     "name": "stdout",
     "output_type": "stream",
     "text": [
      "Invalid key pressed. Use \"g\", \"b\", or \"Esc\".\n"
     ]
    }
   ],
   "source": [
    "# Create output folders\n",
    "good_folder.mkdir(exist_ok=True)\n",
    "bad_folder.mkdir(exist_ok=True)\n",
    "\n",
    "# Get a list of all images\n",
    "image_files = list(input_folder.glob(\"*.jpg\"))\n",
    "\n",
    "print(\"Press \\\"g\\\" to mark as good, \\\"b\\\" to mark as bad, \\\"Esc\\\" to exit.\")\n",
    "try:\n",
    "    for image_file in tqdm(image_files):\n",
    "        img = cv2.imread(str(image_file))\n",
    "        cv2.imshow(\"Image\", img)\n",
    "        while True:\n",
    "            key = cv2.waitKey(0) & 0xFF\n",
    "            # Press \"g\" for good\n",
    "            if key == ord(\"g\"):  \n",
    "                shutil.move(str(image_file), good_folder / image_file.name)\n",
    "                break\n",
    "            # Press \"b\" for bad\n",
    "            elif key == ord(\"b\"):  \n",
    "                shutil.move(str(image_file), bad_folder / image_file.name)\n",
    "                break\n",
    "            # Press \"Esc\" to exit\n",
    "            elif key == 27:  \n",
    "                print(\"Exiting...\")\n",
    "                cv2.destroyAllWindows()\n",
    "                exit()\n",
    "\n",
    "except KeyboardInterrupt:\n",
    "    pass\n",
    "    \n",
    "cv2.destroyAllWindows()"
   ]
  },
  {
   "cell_type": "code",
   "execution_count": null,
   "id": "6cea82be-31b1-4bf3-9aa0-78950e12e2db",
   "metadata": {},
   "outputs": [],
   "source": []
  }
 ],
 "metadata": {
  "kernelspec": {
   "display_name": "Python 3 (ipykernel)",
   "language": "python",
   "name": "python3"
  },
  "language_info": {
   "codemirror_mode": {
    "name": "ipython",
    "version": 3
   },
   "file_extension": ".py",
   "mimetype": "text/x-python",
   "name": "python",
   "nbconvert_exporter": "python",
   "pygments_lexer": "ipython3",
   "version": "3.12.3"
  }
 },
 "nbformat": 4,
 "nbformat_minor": 5
}
