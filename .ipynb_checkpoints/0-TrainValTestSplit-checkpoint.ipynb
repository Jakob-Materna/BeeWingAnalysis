{
 "cells": [
  {
   "cell_type": "markdown",
   "id": "da24d6b2-0e3b-4e79-8d14-ca79303c77d3",
   "metadata": {},
   "source": [
    "### 0-TrainValTestSplit.ipynb\n",
    "\n",
    "Splits the data set into training, validation and test set."
   ]
  },
  {
   "cell_type": "code",
   "execution_count": null,
   "id": "cbd6e6a4-7520-4024-b549-0b7b13e8d6b0",
   "metadata": {},
   "outputs": [],
   "source": [
    "import os\n",
    "import random\n",
    "import shutil"
   ]
  },
  {
   "cell_type": "code",
   "execution_count": null,
   "id": "e7cbf73b-8845-4d87-8b11-c1b9ce193845",
   "metadata": {},
   "outputs": [],
   "source": [
    "# Define directories\n",
    "data_dir = Path(\"/mnt/c/Projects/Master/Data/\")\n",
    "\n",
    "input_dir = data_dir / \"Processed\" / \"AgePrediction\" / \"01-Scaled\" / \"2-LiveBeeScaled\"\n",
    "output_dir = data_dir / \"Processed\" / \"AgePrediction\" / \"01-Scaled\" / \"3-AgePrediction\""
   ]
  },
  {
   "cell_type": "code",
   "execution_count": null,
   "id": "a19b9711-ee46-406f-a1a6-1fc49dcefec3",
   "metadata": {},
   "outputs": [],
   "source": [
    "train_ratio = 0.7\n",
    "val_ratio = 0.15\n",
    "test_ratio = 0.15\n",
    "\n",
    "# Create split folders\n",
    "splits = ['train', 'val', 'test']\n",
    "for split in splits:\n",
    "    os.makedirs(os.path.join(output_dir, split), exist_ok=True)\n",
    "\n",
    "images = [f for f in os.listdir(input_dir) if f.lower().endswith(('.jpg', '.jpeg', '.png'))]\n",
    "random.shuffle(images)\n",
    "\n",
    "n_total = len(images)\n",
    "n_train = int(train_ratio * n_total)\n",
    "n_val = int(val_ratio * n_total)\n",
    "\n",
    "train_files = images[:n_train]\n",
    "val_files = images[n_train:n_train + n_val]\n",
    "test_files = images[n_train + n_val:]\n",
    "\n",
    "# === MOVE FILES ===\n",
    "def copy_files(file_list, split_name):\n",
    "    for fname in file_list:\n",
    "        src = os.path.join(input_dir, fname)\n",
    "        dst = os.path.join(output_dir, split_name, fname)\n",
    "        shutil.copyfile(src, dst)\n",
    "\n",
    "copy_files(train_files, 'train')\n",
    "copy_files(val_files, 'val')\n",
    "copy_files(test_files, 'test')\n",
    "\n",
    "\n",
    "print(f\"Total images: {n_total}\")\n",
    "print(f\"Train: {len(train_files)}\")\n",
    "print(f\"Val: {len(val_files)}\")\n",
    "print(f\"Test: {len(test_files)}\")\n",
    "print(f\"Splits saved to: {output_dir}\")"
   ]
  }
 ],
 "metadata": {
  "kernelspec": {
   "display_name": "Python 3 (ipykernel)",
   "language": "python",
   "name": "python3"
  },
  "language_info": {
   "codemirror_mode": {
    "name": "ipython",
    "version": 3
   },
   "file_extension": ".py",
   "mimetype": "text/x-python",
   "name": "python",
   "nbconvert_exporter": "python",
   "pygments_lexer": "ipython3",
   "version": "3.11.6"
  }
 },
 "nbformat": 4,
 "nbformat_minor": 5
}
