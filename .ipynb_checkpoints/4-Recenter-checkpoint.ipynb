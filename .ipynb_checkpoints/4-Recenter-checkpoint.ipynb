{
 "cells": [
  {
   "cell_type": "markdown",
   "id": "cf317a9f-ff57-4872-9ea0-fd6abe37066d",
   "metadata": {},
   "source": [
    "### 4-Recenter.ipynb\n",
    "\n",
    "Recenters wings around the segmentated wing cells, removing variation in amount of visible wing base."
   ]
  },
  {
   "cell_type": "code",
   "execution_count": 2,
   "id": "b8ded60f-6352-42df-862b-8db792b5d63b",
   "metadata": {},
   "outputs": [],
   "source": [
    "import cv2\n",
    "import os\n",
    "import shutil\n",
    "import numpy as np\n",
    "from tqdm import tqdm\n",
    "from pathlib import Path"
   ]
  },
  {
   "cell_type": "code",
   "execution_count": 3,
   "id": "dc5a000e-25cc-4185-a0c8-7c5d39f01548",
   "metadata": {},
   "outputs": [],
   "source": [
    "# Define directories\n",
    "data_dir = Path(\"/mnt/c/Projects/Master/Data/\")\n",
    "img_dir = data_dir / \"Processed\" / \"AgePrediction\" / \"05-Recentered\" / \"1-LiveBeeWings\"\n",
    "mask_dir = data_dir / \"Processed\" / \"AgePrediction\" / \"05-Recentered\" / \"2-Masks\"\n",
    "output_dir = data_dir / \"Processed\" / \"AgePrediction\" / \"05-Recentered\" / \"3-Recentered\"\n",
    "\n",
    "DEBUG = False"
   ]
  },
  {
   "cell_type": "code",
   "execution_count": 5,
   "id": "15f1c56b-b35e-4ace-b34c-e237cacbc33f",
   "metadata": {},
   "outputs": [
    {
     "name": "stderr",
     "output_type": "stream",
     "text": [
      "Processing files: 100%|████████████████████████████████████████████████████████████████████████████████████████| 999/999 [01:23<00:00, 11.99it/s]\n"
     ]
    }
   ],
   "source": [
    "# Make sure output dir exists\n",
    "os.makedirs(output_dir, exist_ok=True)\n",
    "\n",
    "# Image margin\n",
    "MARGIN = 20  \n",
    "\n",
    "for filename in tqdm(os.listdir(img_dir), desc=\"Processing files\", ncols=145):\n",
    "    if filename.endswith(\".jpg\") or filename.endswith(\".png\"):\n",
    "        img_path = os.path.join(img_dir, filename)\n",
    "        mask_path = os.path.join(mask_dir, filename)\n",
    "\n",
    "        img = cv2.imread(img_path)\n",
    "        mask = cv2.imread(mask_path, cv2.IMREAD_GRAYSCALE)\n",
    "\n",
    "        # Create binary mask for labels 1–6\n",
    "        combined_mask = ((mask > 0) & (mask <= 6)).astype(np.uint8)\n",
    "\n",
    "        # Optional dilation to cover borders\n",
    "        kernel = cv2.getStructuringElement(cv2.MORPH_ELLIPSE, (10, 10))\n",
    "        combined_mask = cv2.dilate(combined_mask, kernel, iterations=1)\n",
    "\n",
    "        # Skip if mask is empty\n",
    "        if np.count_nonzero(combined_mask) == 0:\n",
    "            print(f\"No labeled regions in {filename}\")\n",
    "            continue\n",
    "\n",
    "        # Find bounding box of labeled region\n",
    "        ys, xs = np.where(combined_mask > 0)\n",
    "        y_min = max(np.min(ys) - MARGIN, 0)\n",
    "        y_max = min(np.max(ys) + MARGIN, img.shape[0])\n",
    "        x_min = max(np.min(xs) - MARGIN, 0)\n",
    "        x_max = min(np.max(xs) + MARGIN, img.shape[1])\n",
    "\n",
    "        # Crop the original image\n",
    "        cropped_img = img[y_min:y_max, x_min:x_max]\n",
    "\n",
    "        # Save cropped image\n",
    "        output_path = os.path.join(output_dir, filename)\n",
    "        cv2.imwrite(output_path, cropped_img)"
   ]
  },
  {
   "cell_type": "code",
   "execution_count": null,
   "id": "cae2db7b-fcca-45eb-a8f4-3d774c14b1dd",
   "metadata": {},
   "outputs": [],
   "source": []
  }
 ],
 "metadata": {
  "kernelspec": {
   "display_name": "Python 3 (ipykernel)",
   "language": "python",
   "name": "python3"
  },
  "language_info": {
   "codemirror_mode": {
    "name": "ipython",
    "version": 3
   },
   "file_extension": ".py",
   "mimetype": "text/x-python",
   "name": "python",
   "nbconvert_exporter": "python",
   "pygments_lexer": "ipython3",
   "version": "3.11.6"
  }
 },
 "nbformat": 4,
 "nbformat_minor": 5
}
