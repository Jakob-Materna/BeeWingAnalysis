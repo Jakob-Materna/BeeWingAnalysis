{
 "cells": [
  {
   "cell_type": "markdown",
   "id": "c84fddcd-d153-49d6-b649-d834469bea28",
   "metadata": {},
   "source": [
    "### 4-RemovedFWL.ipynb\n",
    "\n",
    "Removes the forewing lobe using wing segmentations."
   ]
  },
  {
   "cell_type": "code",
   "execution_count": 1,
   "id": "83e5cac3-406e-4d8e-a680-7971809c4ad4",
   "metadata": {},
   "outputs": [],
   "source": [
    "import cv2\n",
    "import os\n",
    "import shutil\n",
    "import numpy as np\n",
    "from tqdm import tqdm\n",
    "from pathlib import Path"
   ]
  },
  {
   "cell_type": "code",
   "execution_count": 2,
   "id": "75e72f24-5341-4e5e-8c98-e5e851058b04",
   "metadata": {},
   "outputs": [],
   "source": [
    "# Define directories\n",
    "data_dir = Path(\"/mnt/c/Projects/Master/Data/\")\n",
    "img_dir = data_dir / \"Processed\" / \"AgePrediction\" / \"04-RemovedFWL\" / \"1-LiveBeeWings\"\n",
    "mask_dir = data_dir / \"Processed\" / \"AgePrediction\" / \"04-RemovedFWL\" / \"2-Masks\"\n",
    "output_dir = data_dir / \"Processed\" / \"AgePrediction\" / \"04-RemovedFWL\" / \"3-RemovedFWL\"\n",
    "\n",
    "DEBUG = False"
   ]
  },
  {
   "cell_type": "code",
   "execution_count": 3,
   "id": "c6e0d498-8cf8-47e4-af29-2d86cacad9b7",
   "metadata": {},
   "outputs": [
    {
     "name": "stderr",
     "output_type": "stream",
     "text": [
      "Processing files: 100%|████████████████████████████████████████████████████████████████████████████████████████| 999/999 [01:10<00:00, 14.18it/s]\n"
     ]
    }
   ],
   "source": [
    "# Make sure output dir exists\n",
    "os.makedirs(output_dir, exist_ok=True)\n",
    "\n",
    "# Label number and image margin  \n",
    "FRONT_CELL_LABEL = 1\n",
    "MARGIN = 10  \n",
    "\n",
    "for filename in  tqdm(os.listdir(img_dir), desc=\"Processing files\", ncols=145):\n",
    "    if filename.endswith(\".jpg\") or filename.endswith(\".png\"):\n",
    "        img_path = os.path.join(img_dir, filename)\n",
    "        mask_path = os.path.join(mask_dir, filename)\n",
    "\n",
    "        img = cv2.imread(img_path)\n",
    "        mask = cv2.imread(mask_path, cv2.IMREAD_GRAYSCALE)\n",
    "\n",
    "        # Create binary mask for the front cell\n",
    "        front_mask = (mask == FRONT_CELL_LABEL).astype(np.uint8)\n",
    "\n",
    "        # Optionally dilate to ensure full coverage\n",
    "        kernel = cv2.getStructuringElement(cv2.MORPH_ELLIPSE, (10, 10))\n",
    "        front_mask = cv2.dilate(front_mask, kernel, iterations=1)\n",
    "\n",
    "        # Skip if mask is empty\n",
    "        if np.count_nonzero(front_mask) == 0:\n",
    "            print(f\"No front cell in {filename}\")\n",
    "            continue\n",
    "\n",
    "        # Apply mask to image\n",
    "        front_mask_3c = cv2.merge([front_mask] * 3)\n",
    "        result = img.copy()\n",
    "        result[front_mask_3c == 0] = 255\n",
    "\n",
    "        # Find bounding box of the front cell\n",
    "        ys, xs = np.where(front_mask > 0)\n",
    "        y_min = max(np.min(ys) - MARGIN, 0)\n",
    "        y_max = min(np.max(ys) + MARGIN, img.shape[0])\n",
    "        x_min = max(np.min(xs) - MARGIN, 0)\n",
    "        x_max = min(np.max(xs) + MARGIN, img.shape[1])\n",
    "\n",
    "        # Crop the result\n",
    "        cropped_result = result[y_min:y_max, x_min:x_max]\n",
    "\n",
    "        # Save cropped image\n",
    "        output_path = os.path.join(output_dir, filename)\n",
    "        cv2.imwrite(output_path, cropped_result)"
   ]
  },
  {
   "cell_type": "code",
   "execution_count": null,
   "id": "da0a6907-8192-403e-bd1a-d836be325f0a",
   "metadata": {},
   "outputs": [],
   "source": []
  }
 ],
 "metadata": {
  "kernelspec": {
   "display_name": "Python 3 (ipykernel)",
   "language": "python",
   "name": "python3"
  },
  "language_info": {
   "codemirror_mode": {
    "name": "ipython",
    "version": 3
   },
   "file_extension": ".py",
   "mimetype": "text/x-python",
   "name": "python",
   "nbconvert_exporter": "python",
   "pygments_lexer": "ipython3",
   "version": "3.11.6"
  }
 },
 "nbformat": 4,
 "nbformat_minor": 5
}
