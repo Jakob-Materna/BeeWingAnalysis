{
 "cells": [
  {
   "cell_type": "markdown",
   "id": "c1daeb43-2d80-4353-89bf-4a414540d0a3",
   "metadata": {},
   "source": [
    "### 4-ApplyImageScale.ipynb\n",
    "\n",
    "Applies the image specific mm to pixel scale for each live bee image."
   ]
  },
  {
   "cell_type": "code",
   "execution_count": 1,
   "id": "cbd14f96-3718-4f5c-8f71-2b2afbaa4565",
   "metadata": {},
   "outputs": [],
   "source": [
    "from pathlib import Path\n",
    "import pandas as pd\n",
    "import cv2\n",
    "from tqdm import tqdm"
   ]
  },
  {
   "cell_type": "code",
   "execution_count": 2,
   "id": "658276e1-d9fc-489f-b43b-38e5794b0385",
   "metadata": {},
   "outputs": [],
   "source": [
    "# Scale options\n",
    "MARKER_LENGTH_MM = 5.0\n",
    "PIXELS_PER_MM = 150\n",
    "\n",
    "# Define directories\n",
    "data_dir = Path(\"/mnt/c/Projects/Master/Data/\")\n",
    "csv_path = data_dir / \"Processed\" / \"AgePrediction\" / \"01-Scaled\" / \"MarkerLenghts.csv\"\n",
    "images_folder = data_dir / \"Processed\" / \"AgePrediction\" / \"01-Scaled\" / \"1-LiveBeeWings\"\n",
    "output_folder = data_dir / \"Processed\" / \"AgePrediction\" / \"01-Scaled\" / \"2-LiveBeeScaled\"\n",
    "\n",
    "DEBUG = False"
   ]
  },
  {
   "cell_type": "code",
   "execution_count": 3,
   "id": "158f9d5f-44c5-4189-a463-93496b897ee3",
   "metadata": {},
   "outputs": [
    {
     "name": "stdout",
     "output_type": "stream",
     "text": [
      "Number of NaN values present: 0\n"
     ]
    },
    {
     "name": "stderr",
     "output_type": "stream",
     "text": [
      "Processing files: 100%|████████████████████████████████████████████████████████████████████████████████████████| 999/999 [02:04<00:00,  8.04it/s]\n"
     ]
    }
   ],
   "source": [
    "# Make sure output directory exists\n",
    "output_folder.mkdir(parents=True, exist_ok=True)\n",
    "\n",
    "# Load and process CSV\n",
    "df = pd.read_csv(csv_path)\n",
    "df[\"Filename\"] = df[\"Filename\"].str.replace(\".JPG\", \".png\", case=False)\n",
    "\n",
    "# Report missing values\n",
    "count_nan = df[\"MarkerLengthInPixels\"].isnull().sum()\n",
    "print(f\"Number of NaN values present: {count_nan}\")\n",
    "\n",
    "# Create lookup dictionary\n",
    "marker_lengths = dict(zip(df[\"Filename\"], df[\"MarkerLengthInPixels\"]))\n",
    "\n",
    "# Process images\n",
    "for image_path in tqdm(sorted(images_folder.glob(\"*.png\")), desc=\"Processing files\", ncols=145):\n",
    "    filename = image_path.name\n",
    "\n",
    "    if filename not in marker_lengths:\n",
    "        print(f\"Marker length missing for {filename}, skipping.\")\n",
    "        continue\n",
    "\n",
    "    marker_length_px = marker_lengths[filename]\n",
    "    if pd.isna(marker_length_px):\n",
    "        print(f\"Marker length is NaN for {filename}, skipping.\")\n",
    "        continue\n",
    "\n",
    "    # Compute scale factor and new size\n",
    "    current_pixels_per_mm = marker_length_px / MARKER_LENGTH_MM\n",
    "    scale_factor = PIXELS_PER_MM / current_pixels_per_mm\n",
    "\n",
    "    image = cv2.imread(str(image_path))\n",
    "    if image is None:\n",
    "        print(f\"Could not read {filename}, skipping.\")\n",
    "        continue\n",
    "\n",
    "    new_size = (\n",
    "        int(image.shape[1] * scale_factor),\n",
    "        int(image.shape[0] * scale_factor),\n",
    "    )\n",
    "    resized_image = cv2.resize(image, new_size, interpolation=cv2.INTER_LINEAR)\n",
    "\n",
    "    output_path = output_folder / filename\n",
    "    cv2.imwrite(str(output_path), resized_image)\n",
    "\n",
    "    if DEBUG:\n",
    "        print(f\"Scaled {filename}: original marker {marker_length_px:.2f}px, scale factor {scale_factor:.4f}\")"
   ]
  },
  {
   "cell_type": "code",
   "execution_count": null,
   "id": "1c5134c7-01e3-47b4-a90e-5f02dcd4a3f7",
   "metadata": {},
   "outputs": [],
   "source": []
  }
 ],
 "metadata": {
  "kernelspec": {
   "display_name": "Python 3 (ipykernel)",
   "language": "python",
   "name": "python3"
  },
  "language_info": {
   "codemirror_mode": {
    "name": "ipython",
    "version": 3
   },
   "file_extension": ".py",
   "mimetype": "text/x-python",
   "name": "python",
   "nbconvert_exporter": "python",
   "pygments_lexer": "ipython3",
   "version": "3.11.6"
  }
 },
 "nbformat": 4,
 "nbformat_minor": 5
}
