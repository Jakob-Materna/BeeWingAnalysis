{
 "cells": [
  {
   "cell_type": "markdown",
   "id": "7b94103e-7762-4122-a794-4a27b1d2f203",
   "metadata": {},
   "source": [
    "### 3-3-Visualisation.ipynb "
   ]
  },
  {
   "cell_type": "code",
   "execution_count": 1,
   "id": "1c5fb7cd-355a-489a-b1f2-bbaa0c7bbe71",
   "metadata": {},
   "outputs": [],
   "source": [
    "import os\n",
    "import cv2\n",
    "import numpy as np\n",
    "import seaborn as sns\n",
    "import rasterio.features\n",
    "from copy import deepcopy\n",
    "import matplotlib.pyplot as plt\n",
    "from shapely import Polygon\n",
    "from pathlib import Path\n",
    "from tqdm import tqdm"
   ]
  },
  {
   "cell_type": "code",
   "execution_count": 2,
   "id": "4f431b66-480d-42b2-b716-2f0cbafe9f96",
   "metadata": {},
   "outputs": [],
   "source": [
    "# Define your base working directory\n",
    "base_dir = Path(\"/mnt/c/Projects/Master/Data/Processed/LiveBees/8-SemanticSegmentation\")\n",
    "\n",
    "# Build directory paths from the base directory\n",
    "pred_fps = list((base_dir / \"predictions_resized\").glob(\"*\"))\n",
    "wing_fp = base_dir / \"to_predict\" / \"images\"\n",
    "out_fp = base_dir / \"predictions_resized_overlaid\""
   ]
  },
  {
   "cell_type": "code",
   "execution_count": 3,
   "id": "37342889-f51f-4d7d-99d9-0e4821134fee",
   "metadata": {},
   "outputs": [
    {
     "name": "stderr",
     "output_type": "stream",
     "text": [
      "Processing files:  92%|██████████████████████████████████████████████████████████████████████████████▎      | 5134/5574 [00:10<00:01, 384.48it/s]"
     ]
    },
    {
     "name": "stdout",
     "output_type": "stream",
     "text": [
      "Warning: Skipping Round03-hive21-2024_07_23-h21b28.JPG\n",
      "OpenCV(4.10.0) /home/conda/feedstock_root/build_artifacts/libopencv_1723431247556/work/modules/imgproc/src/drawing.cpp:2433: error: (-215:Assertion failed) p.checkVector(2, CV_32S) >= 0 in function 'fillPoly'\n",
      "\n"
     ]
    },
    {
     "name": "stderr",
     "output_type": "stream",
     "text": [
      "Processing files: 100%|█████████████████████████████████████████████████████████████████████████████████████| 5574/5574 [00:23<00:00, 232.58it/s]\n"
     ]
    }
   ],
   "source": [
    "# Plot overlaid predictions\n",
    "\n",
    "DEBUG = False\n",
    "\n",
    "# Load color palette\n",
    "colors = (np.array(sns.color_palette(\"hls\", 8)) * 255)\n",
    "colors = colors[[5, 0, 1, 2, 3, 4]]\n",
    "\n",
    "# Loop through every prediction\n",
    "for pred_fp in tqdm(pred_fps, desc=\"Processing files\", ncols=145):\n",
    "    # Determine file paths\n",
    "    pred_fp = Path(pred_fp)\n",
    "    pred_fn = pred_fp.name\n",
    "    seg_fp = Path(wing_fp) / pred_fn\n",
    "    new_fp = Path(out_fp) / pred_fn\n",
    "\n",
    "    # Skip if output file exists\n",
    "    if os.path.exists(new_fp):\n",
    "        continue  \n",
    "        \n",
    "    # Through an error if no matching image exists\n",
    "    if not os.path.exists(seg_fp):\n",
    "        print(\"Warning: Missing Image!\")\n",
    "        continue\n",
    "\n",
    "    # Open the matching image pair\n",
    "    seg = cv2.imread(seg_fp)\n",
    "    seg = cv2.cvtColor(seg, cv2.COLOR_BGR2RGB)\n",
    "    pred = cv2.imread(pred_fp, cv2.IMREAD_GRAYSCALE)\n",
    "    overlaid = deepcopy(seg)\n",
    "    \n",
    "    try:\n",
    "        for class_id, color in zip(range(1,7), colors):\n",
    "            color = tuple(color.astype(\"float\"))\n",
    "            if (pred == class_id).sum() > 0:\n",
    "                contours, hierarchy = cv2.findContours((pred == class_id).astype(\"uint8\"), 1, 2)\n",
    "                area_sorted_indices = np.argsort([cv2.contourArea(x) for x in contours])\n",
    "                biggest_contour_index = area_sorted_indices[-1]\n",
    "                biggest_contour = contours[biggest_contour_index].squeeze()\n",
    "                overlaid = cv2.drawContours(overlaid, [biggest_contour], 0, color, -1)\n",
    "\n",
    "        # Save the overlaid prediction\n",
    "        os.makedirs(out_fp, exist_ok=True)\n",
    "        plt.imshow(seg)  \n",
    "        plt.imshow(overlaid, alpha=0.5)  \n",
    "        plt.axis(\"off\")\n",
    "        plt.savefig(new_fp, bbox_inches=\"tight\", pad_inches=0)\n",
    "        if DEBUG:\n",
    "            plt.show()\n",
    "        plt.close()\n",
    "        \n",
    "    except cv2.error as e:\n",
    "        print(f'Warning: Skipping {pred_fn}\\n{e}')"
   ]
  },
  {
   "cell_type": "code",
   "execution_count": null,
   "id": "2052f943-e4fb-4a2c-a80f-2f2edea3feb8",
   "metadata": {},
   "outputs": [],
   "source": []
  }
 ],
 "metadata": {
  "kernelspec": {
   "display_name": "Python 3 (ipykernel)",
   "language": "python",
   "name": "python3"
  },
  "language_info": {
   "codemirror_mode": {
    "name": "ipython",
    "version": 3
   },
   "file_extension": ".py",
   "mimetype": "text/x-python",
   "name": "python",
   "nbconvert_exporter": "python",
   "pygments_lexer": "ipython3",
   "version": "3.11.6"
  }
 },
 "nbformat": 4,
 "nbformat_minor": 5
}
